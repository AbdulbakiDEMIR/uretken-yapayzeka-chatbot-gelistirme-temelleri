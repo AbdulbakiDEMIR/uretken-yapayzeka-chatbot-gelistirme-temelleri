{
 "cells": [
  {
   "cell_type": "markdown",
   "id": "61e881e7-c35d-4e17-80ff-bf5a59aa8d28",
   "metadata": {},
   "source": [
    "# PYTHON PROJELERİ "
   ]
  },
  {
   "cell_type": "raw",
   "id": "b881eeb0-4a82-4ff3-ba37-ca6bc139462b",
   "metadata": {},
   "source": [
    "## Alıştırma 1 Sayı Tahmini Oyunu \n",
    "\n",
    "Bu projede program 1 ile 100 arasında rastgele bir sayı tutacak ve kullanıcı bu sayıyı bulmaya çalışacaktır. \n",
    "Her tahminden sonra program, tahmini tutulmuş sayıdan büyük mü yoksa küçük mü olduğunu söyleyerek ipucu verecektir. \n",
    "Kullanıcı doğru tahmin edene kadar oyun devam edecek ve sonunda kulalnıcıya kaç denemede bildiğini söyleyecektir. "
   ]
  },
  {
   "cell_type": "code",
   "execution_count": 3,
   "id": "f162627f-9db4-42d0-a28f-2a9eec16ed13",
   "metadata": {},
   "outputs": [
    {
     "name": "stdin",
     "output_type": "stream",
     "text": [
      "Tahmini giriniz.(1-100): 14\n"
     ]
    },
    {
     "name": "stdout",
     "output_type": "stream",
     "text": [
      "Daha büyük bir sayı söyleyiniz.\n"
     ]
    },
    {
     "name": "stdin",
     "output_type": "stream",
     "text": [
      "Tahmini giriniz.(1-100): 20\n"
     ]
    },
    {
     "name": "stdout",
     "output_type": "stream",
     "text": [
      "Daha büyük bir sayı söyleyiniz.\n"
     ]
    },
    {
     "name": "stdin",
     "output_type": "stream",
     "text": [
      "Tahmini giriniz.(1-100): 40\n"
     ]
    },
    {
     "name": "stdout",
     "output_type": "stream",
     "text": [
      "Daha büyük bir sayı söyleyiniz.\n"
     ]
    },
    {
     "name": "stdin",
     "output_type": "stream",
     "text": [
      "Tahmini giriniz.(1-100): 80\n"
     ]
    },
    {
     "name": "stdout",
     "output_type": "stream",
     "text": [
      "Daha büyük bir sayı söyleyiniz.\n"
     ]
    },
    {
     "name": "stdin",
     "output_type": "stream",
     "text": [
      "Tahmini giriniz.(1-100): 80\n"
     ]
    },
    {
     "name": "stdout",
     "output_type": "stream",
     "text": [
      "Daha büyük bir sayı söyleyiniz.\n"
     ]
    },
    {
     "name": "stdin",
     "output_type": "stream",
     "text": [
      "Tahmini giriniz.(1-100): 90\n"
     ]
    },
    {
     "name": "stdout",
     "output_type": "stream",
     "text": [
      "Daha küçük bir sayı söyleyin.\n"
     ]
    },
    {
     "name": "stdin",
     "output_type": "stream",
     "text": [
      "Tahmini giriniz.(1-100): 89\n"
     ]
    },
    {
     "name": "stdout",
     "output_type": "stream",
     "text": [
      "Daha küçük bir sayı söyleyin.\n"
     ]
    },
    {
     "name": "stdin",
     "output_type": "stream",
     "text": [
      "Tahmini giriniz.(1-100): 88\n"
     ]
    },
    {
     "name": "stdout",
     "output_type": "stream",
     "text": [
      "Daha küçük bir sayı söyleyin.\n"
     ]
    },
    {
     "name": "stdin",
     "output_type": "stream",
     "text": [
      "Tahmini giriniz.(1-100): 87\n"
     ]
    },
    {
     "name": "stdout",
     "output_type": "stream",
     "text": [
      "Daha küçük bir sayı söyleyin.\n"
     ]
    },
    {
     "name": "stdin",
     "output_type": "stream",
     "text": [
      "Tahmini giriniz.(1-100): 85\n"
     ]
    },
    {
     "name": "stdout",
     "output_type": "stream",
     "text": [
      "Tebrikler! 10 denemede doğru bildiniz!\n"
     ]
    }
   ],
   "source": [
    "import random\n",
    "\n",
    "number = random.randint(1,100) # 1 ile 100 arasında rastgele bir sayı tut. \n",
    "precision_number = 0 \n",
    "\n",
    "while True: \n",
    "    precision = int(input(\"Tahmini giriniz.(1-100):\"))\n",
    "    precision_number +=1 \n",
    "    if precision < number:\n",
    "        print(\"Daha büyük bir sayı söyleyiniz.\")\n",
    "    elif precision > number:\n",
    "        print(\"Daha küçük bir sayı söyleyin.\")\n",
    "    else:\n",
    "        print(\"Tebrikler!\",precision_number, \"denemede doğru bildiniz!\")\n",
    "        break"
   ]
  },
  {
   "cell_type": "raw",
   "id": "d5b21b63-22c1-4240-bfe2-72879cec421e",
   "metadata": {},
   "source": [
    "## Alıştırma 2 Kişisel Telefon Rehberi \n",
    "\n",
    "Bu projede basit bir metin tabanlı telefon rehberi uygulaması yapılacak. \n",
    "Uygulama kullanıcıya bir menü sunsun ve kullanıcı menüden seçime göre rehbere yeni kişi ekleyebilsin. \n",
    "Belirli bir isim telefonunu sorgulayabilsin veya tüm kayıtları listeleyebilsin. Rehber verisi python sözlüğüyle ( dict ) \n"
   ]
  },
  {
   "cell_type": "code",
   "execution_count": null,
   "id": "c6fb8ed9-6bd0-4793-b6f6-c81f738a75c5",
   "metadata": {},
   "outputs": [
    {
     "name": "stdout",
     "output_type": "stream",
     "text": [
      "\n",
      "Yapmak istediğiniz işlemi seçiniz: \n",
      "1- Kişi Ekle\n",
      "2- Telefon Numarası Sorgula\n",
      "3- Rehberi Listele\n",
      "4- Çıkış\n"
     ]
    },
    {
     "name": "stdin",
     "output_type": "stream",
     "text": [
      "Seçiminiz:  1\n",
      "İsim: Kardel\n",
      "Telefon: 5308524786\n"
     ]
    },
    {
     "name": "stdout",
     "output_type": "stream",
     "text": [
      "Kardel rehbere eklendi.\n",
      "\n",
      "Yapmak istediğiniz işlemi seçiniz: \n",
      "1- Kişi Ekle\n",
      "2- Telefon Numarası Sorgula\n",
      "3- Rehberi Listele\n",
      "4- Çıkış\n"
     ]
    },
    {
     "name": "stdin",
     "output_type": "stream",
     "text": [
      "Seçiminiz:  Ruveyda\n"
     ]
    },
    {
     "name": "stdout",
     "output_type": "stream",
     "text": [
      "Geçersiz seçim, lütfen 1-4 arasında bir değer giriniz.\n",
      "\n",
      "Yapmak istediğiniz işlemi seçiniz: \n",
      "1- Kişi Ekle\n",
      "2- Telefon Numarası Sorgula\n",
      "3- Rehberi Listele\n",
      "4- Çıkış\n"
     ]
    },
    {
     "name": "stdin",
     "output_type": "stream",
     "text": [
      "Seçiminiz:  5324896532\n"
     ]
    },
    {
     "name": "stdout",
     "output_type": "stream",
     "text": [
      "Geçersiz seçim, lütfen 1-4 arasında bir değer giriniz.\n",
      "\n",
      "Yapmak istediğiniz işlemi seçiniz: \n",
      "1- Kişi Ekle\n",
      "2- Telefon Numarası Sorgula\n",
      "3- Rehberi Listele\n",
      "4- Çıkış\n"
     ]
    },
    {
     "name": "stdin",
     "output_type": "stream",
     "text": [
      "Seçiminiz:  2\n",
      "Aranan isim: Kardel\n"
     ]
    },
    {
     "name": "stdout",
     "output_type": "stream",
     "text": [
      "Bu isim rehberde yok.\n",
      "\n",
      "Yapmak istediğiniz işlemi seçiniz: \n",
      "1- Kişi Ekle\n",
      "2- Telefon Numarası Sorgula\n",
      "3- Rehberi Listele\n",
      "4- Çıkış\n"
     ]
    },
    {
     "name": "stdin",
     "output_type": "stream",
     "text": [
      "Seçiminiz:  2\n",
      "Aranan isim: Ruveyda\n"
     ]
    },
    {
     "name": "stdout",
     "output_type": "stream",
     "text": [
      "Bu isim rehberde yok.\n",
      "\n",
      "Yapmak istediğiniz işlemi seçiniz: \n",
      "1- Kişi Ekle\n",
      "2- Telefon Numarası Sorgula\n",
      "3- Rehberi Listele\n",
      "4- Çıkış\n"
     ]
    },
    {
     "name": "stdin",
     "output_type": "stream",
     "text": [
      "Seçiminiz:  3\n"
     ]
    },
    {
     "name": "stdout",
     "output_type": "stream",
     "text": [
      "Rehberdeki kişiler:\n",
      "\n",
      "Yapmak istediğiniz işlemi seçiniz: \n",
      "1- Kişi Ekle\n",
      "2- Telefon Numarası Sorgula\n",
      "3- Rehberi Listele\n",
      "4- Çıkış\n"
     ]
    },
    {
     "name": "stdin",
     "output_type": "stream",
     "text": [
      "Seçiminiz:  3\n"
     ]
    },
    {
     "name": "stdout",
     "output_type": "stream",
     "text": [
      "Rehberdeki kişiler:\n",
      "\n",
      "Yapmak istediğiniz işlemi seçiniz: \n",
      "1- Kişi Ekle\n",
      "2- Telefon Numarası Sorgula\n",
      "3- Rehberi Listele\n",
      "4- Çıkış\n"
     ]
    },
    {
     "name": "stdin",
     "output_type": "stream",
     "text": [
      "Seçiminiz:  1\n",
      "İsim: test\n",
      "Telefon: 465465465\n"
     ]
    },
    {
     "name": "stdout",
     "output_type": "stream",
     "text": [
      "test rehbere eklendi.\n",
      "\n",
      "Yapmak istediğiniz işlemi seçiniz: \n",
      "1- Kişi Ekle\n",
      "2- Telefon Numarası Sorgula\n",
      "3- Rehberi Listele\n",
      "4- Çıkış\n"
     ]
    },
    {
     "name": "stdin",
     "output_type": "stream",
     "text": [
      "Seçiminiz:  2\n",
      "Aranan isim: test\n"
     ]
    },
    {
     "name": "stdout",
     "output_type": "stream",
     "text": [
      "Bu isim rehberde yok.\n",
      "\n",
      "Yapmak istediğiniz işlemi seçiniz: \n",
      "1- Kişi Ekle\n",
      "2- Telefon Numarası Sorgula\n",
      "3- Rehberi Listele\n",
      "4- Çıkış\n"
     ]
    }
   ],
   "source": [
    "phonebook = {} #başlangıçta içi boş bir sözlük \n",
    "\n",
    "while True:\n",
    "    print(\"\\nYapmak istediğiniz işlemi seçiniz: \")\n",
    "    print(\"1- Kişi Ekle\")\n",
    "    print(\"2- Telefon Numarası Sorgula\")\n",
    "    print(\"3- Rehberi Listele\")\n",
    "    print(\"4- Çıkış\")\n",
    "\n",
    "    choice = input(\"Seçiminiz: \")\n",
    "\n",
    "    if choice == \"1\":\n",
    "        name = input(\"İsim:\")\n",
    "        phone = input(\"Telefon:\")\n",
    "        phonebook[name]:phone\n",
    "        print(name,\"rehbere eklendi.\")\n",
    "    elif choice == \"2\":\n",
    "        name= input(\"Aranan isim:\")\n",
    "        if name in phonebook:\n",
    "            print(name, \"için telefon numarası\",phonebook[name])\n",
    "        else:\n",
    "            print(\"Bu isim rehberde yok.\")\n",
    "    elif choice == \"3\":\n",
    "        print(\"Rehberdeki kişiler:\")\n",
    "        for name,phone in phonebook.items():\n",
    "            print(\"-\",name + \":\", phone)\n",
    "    elif choice == \"4\":\n",
    "        print(\"Programdan çıkılıyor....\")\n",
    "        break\n",
    "    else:\n",
    "        print(\"Geçersiz seçim, lütfen 1-4 arasında bir değer giriniz.\")"
   ]
  },
  {
   "cell_type": "markdown",
   "id": "b71f14da-56c2-495e-99b9-7aa126c62151",
   "metadata": {},
   "source": [
    "## ÖDEV 1"
   ]
  },
  {
   "cell_type": "markdown",
   "id": "f53ab972-b8f3-486f-ac22-292a03032122",
   "metadata": {},
   "source": []
  },
  {
   "cell_type": "markdown",
   "id": "5d4e5bce-2ac0-4601-85b4-69951afd3cca",
   "metadata": {},
   "source": [
    "## ÖDEV 2"
   ]
  }
 ],
 "metadata": {
  "kernelspec": {
   "display_name": "Python (env_langchain)",
   "language": "python",
   "name": "env_langchain"
  },
  "language_info": {
   "codemirror_mode": {
    "name": "ipython",
    "version": 3
   },
   "file_extension": ".py",
   "mimetype": "text/x-python",
   "name": "python",
   "nbconvert_exporter": "python",
   "pygments_lexer": "ipython3",
   "version": "3.10.16"
  }
 },
 "nbformat": 4,
 "nbformat_minor": 5
}
