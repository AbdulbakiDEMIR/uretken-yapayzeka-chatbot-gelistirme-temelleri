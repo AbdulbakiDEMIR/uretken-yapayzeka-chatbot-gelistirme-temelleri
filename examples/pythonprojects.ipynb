{
 "cells": [
  {
   "cell_type": "markdown",
   "id": "61e881e7-c35d-4e17-80ff-bf5a59aa8d28",
   "metadata": {},
   "source": [
    "# PYTHON TEMEL PROJELERİ "
   ]
  },
  {
   "cell_type": "markdown",
   "id": "c110b8c8-8ee9-486b-a991-21ecf5ce5b2c",
   "metadata": {},
   "source": [
    "## Alıştırma 1 Sayı Tahmini Oyunu \n",
    "\n",
    "Bu projede program 1 ile 100 arasında rastgele bir sayı tutacak ve kullanıcı bu sayıyı bulmaya çalışacaktır. \n",
    "Her tahminden sonra program, tahmini tutulmuş sayıdan büyük mü yoksa küçük mü olduğunu söyleyerek ipucu verecektir. \n",
    "Kullanıcı doğru tahmin edene kadar oyun devam edecek ve sonunda kulalnıcıya kaç denemede bildiğini söyleyecektir. "
   ]
  },
  {
   "cell_type": "code",
   "execution_count": 3,
   "id": "f162627f-9db4-42d0-a28f-2a9eec16ed13",
   "metadata": {},
   "outputs": [
    {
     "name": "stdout",
     "output_type": "stream",
     "text": [
      "Tahmini giriniz.(1-100): 14\n"
     ]
    },
    {
     "name": "stdout",
     "output_type": "stream",
     "text": [
      "Daha büyük bir sayı söyleyiniz.\n"
     ]
    },
    {
     "name": "stdout",
     "output_type": "stream",
     "text": [
      "Tahmini giriniz.(1-100): 20\n"
     ]
    },
    {
     "name": "stdout",
     "output_type": "stream",
     "text": [
      "Daha büyük bir sayı söyleyiniz.\n"
     ]
    },
    {
     "name": "stdout",
     "output_type": "stream",
     "text": [
      "Tahmini giriniz.(1-100): 40\n"
     ]
    },
    {
     "name": "stdout",
     "output_type": "stream",
     "text": [
      "Daha büyük bir sayı söyleyiniz.\n"
     ]
    },
    {
     "name": "stdout",
     "output_type": "stream",
     "text": [
      "Tahmini giriniz.(1-100): 80\n"
     ]
    },
    {
     "name": "stdout",
     "output_type": "stream",
     "text": [
      "Daha büyük bir sayı söyleyiniz.\n"
     ]
    },
    {
     "name": "stdout",
     "output_type": "stream",
     "text": [
      "Tahmini giriniz.(1-100): 80\n"
     ]
    },
    {
     "name": "stdout",
     "output_type": "stream",
     "text": [
      "Daha büyük bir sayı söyleyiniz.\n"
     ]
    },
    {
     "name": "stdout",
     "output_type": "stream",
     "text": [
      "Tahmini giriniz.(1-100): 90\n"
     ]
    },
    {
     "name": "stdout",
     "output_type": "stream",
     "text": [
      "Daha küçük bir sayı söyleyin.\n"
     ]
    },
    {
     "name": "stdout",
     "output_type": "stream",
     "text": [
      "Tahmini giriniz.(1-100): 89\n"
     ]
    },
    {
     "name": "stdout",
     "output_type": "stream",
     "text": [
      "Daha küçük bir sayı söyleyin.\n"
     ]
    },
    {
     "name": "stdout",
     "output_type": "stream",
     "text": [
      "Tahmini giriniz.(1-100): 88\n"
     ]
    },
    {
     "name": "stdout",
     "output_type": "stream",
     "text": [
      "Daha küçük bir sayı söyleyin.\n"
     ]
    },
    {
     "name": "stdout",
     "output_type": "stream",
     "text": [
      "Tahmini giriniz.(1-100): 87\n"
     ]
    },
    {
     "name": "stdout",
     "output_type": "stream",
     "text": [
      "Daha küçük bir sayı söyleyin.\n"
     ]
    },
    {
     "name": "stdout",
     "output_type": "stream",
     "text": [
      "Tahmini giriniz.(1-100): 85\n"
     ]
    },
    {
     "name": "stdout",
     "output_type": "stream",
     "text": [
      "Tebrikler! 10 denemede doğru bildiniz!\n"
     ]
    }
   ],
   "source": [
    "import random\n",
    "\n",
    "number = random.randint(1,100) # 1 ile 100 arasında rastgele bir sayı tut. \n",
    "precision_number = 0 \n",
    "\n",
    "while True: \n",
    "    precision = int(input(\"Tahmini giriniz.(1-100):\"))\n",
    "    precision_number +=1 \n",
    "    if precision < number:\n",
    "        print(\"Daha büyük bir sayı söyleyiniz.\")\n",
    "    elif precision > number:\n",
    "        print(\"Daha küçük bir sayı söyleyin.\")\n",
    "    else:\n",
    "        print(\"Tebrikler!\",precision_number, \"denemede doğru bildiniz!\")\n",
    "        break"
   ]
  },
  {
   "cell_type": "markdown",
   "id": "58625896-e56d-438a-a4c3-13bfab491e3f",
   "metadata": {},
   "source": [
    "## Alıştırma 2 Kişisel Telefon Rehberi \n",
    "\n",
    "Bu projede basit bir metin tabanlı telefon rehberi uygulaması yapılacak. \n",
    "Uygulama kullanıcıya bir menü sunsun ve kullanıcı menüden seçime göre rehbere yeni kişi ekleyebilsin. \n",
    "Belirli bir isim telefonunu sorgulayabilsin veya tüm kayıtları listeleyebilsin. Rehber verisi python sözlüğüyle ( dict ) \n"
   ]
  },
  {
   "cell_type": "code",
   "execution_count": null,
   "id": "18624b04-3b57-4c25-b9c4-e5996259855f",
   "metadata": {},
   "outputs": [],
   "source": [
    "phonebook = {} #başlangıçta içi boş bir sözlük \n",
    "\n",
    "while True:\n",
    "    print(\"\\nYapmak istediğiniz işlemi seçiniz: \")\n",
    "    print(\"1- Kişi Ekle\")\n",
    "    print(\"2- Telefon Numarası Sorgula\")\n",
    "    print(\"3- Rehberi Listele\")\n",
    "    print(\"4- Çıkış\")\n",
    "\n",
    "    choice = input(\"Seçiminiz: \")\n",
    "\n",
    "    if choice == \"1\":\n",
    "        name = input(\"İsim:\")\n",
    "        phone = input(\"Telefon:\")\n",
    "        phonebook[name]:phone\n",
    "        print(name,\"rehbere eklendi.\")\n",
    "    elif choice == \"2\":\n",
    "        name= input(\"Aranan isim:\")\n",
    "        if name in phonebook:\n",
    "            print(name, \"için telefon numarası\",phonebook[name])\n",
    "        else:\n",
    "            print(\"Bu isim rehberde yok.\")\n",
    "    elif choice == \"3\":\n",
    "        print(\"Rehberdeki kişiler:\")\n",
    "        for name,phone in phonebook.items():\n",
    "            print(\"-\",name + \":\", phone)\n",
    "    elif choice == \"4\":\n",
    "        print(\"Programdan çıkılıyor....\")\n",
    "        break\n",
    "    else:\n",
    "        print(\"Geçersiz seçim, lütfen 1-4 arasında bir değer giriniz.\")"
   ]
  },
  {
   "cell_type": "markdown",
   "id": "5da0cc6e-e4cf-467f-b11c-b6f524a0f857",
   "metadata": {},
   "source": [
    "## Alıştırma 3 Liste İçindeki En Küçük ve En Büyük Sayıyı Bulma\n",
    "\n",
    "Bir kullanıcıdan boşlukla ayrılmış sayılar girmesini isteyin ve bu listedeki en küçük ve en büyük sayıyı ekrana yazdırın.\n",
    "\n",
    "Girdi : 12 45 7 89 34 2 99\n",
    "-> En küçük sayıyı ve en büyük sayıyı"
   ]
  },
  {
   "cell_type": "code",
   "execution_count": 1,
   "id": "95bacb96-39f8-43dc-aab5-2d08d1830175",
   "metadata": {},
   "outputs": [],
   "source": [
    "def min_max_bul():\n",
    "    numbers = list(map(int, input(\"Lütfen sayıları girin:\").split()))\n",
    "    print(f\"En küçük sayı: {min(numbers)}\")\n",
    "    print(f\"En büyük sayı: {max(numbers)}\")"
   ]
  },
  {
   "cell_type": "code",
   "execution_count": 2,
   "id": "38617b33-fb50-4667-9ac5-221a93294d5a",
   "metadata": {},
   "outputs": [
    {
     "name": "stdout",
     "output_type": "stream",
     "text": [
      "Lütfen sayıları girin: 12 45 7 89 34 2 99\n"
     ]
    },
    {
     "name": "stdout",
     "output_type": "stream",
     "text": [
      "En küçük sayı: 2\n",
      "En büyük sayı: 99\n"
     ]
    }
   ],
   "source": [
    "min_max_bul()"
   ]
  },
  {
   "cell_type": "markdown",
   "id": "1adb5e94-a79a-4375-ad1f-a322db0cfe9a",
   "metadata": {},
   "source": [
    "# Alıştırma 4 ATM Simulasyonu \n",
    "- Kullanıcıdan başlangıçta bir PIN istesin.\n",
    "- Kullanıcı hesabında da başlangıçta bir hesabında bakiye olmalı.\n",
    "- Kullanıcı bakiye sorgulama, para yatırma, para çekme gibi işlemleri gerçekleştirsin.\n",
    "- Yanlış PIN girişi yaparsa işlem sonlandırılsın.\n"
   ]
  },
  {
   "cell_type": "code",
   "execution_count": 15,
   "id": "68ab2ec5-686c-4220-bee5-1fd70dac45dc",
   "metadata": {},
   "outputs": [],
   "source": [
    "class ATM:\n",
    "    def __init__(self, bakiye=1000,pin=\"1234\"):\n",
    "        self.bakiye = bakiye\n",
    "        self.pin = pin\n",
    "\n",
    "    def giris(self):\n",
    "        giris_hakki = 3\n",
    "        while giris_hakki > 0:\n",
    "            girilen_pin = input(\"PIN kodunuzu giriniz:\")\n",
    "            if girilen_pin == self.pin:\n",
    "                print(\"Giriş başarılı!\")\n",
    "                return True\n",
    "            else:\n",
    "                giris_hakki -= 1\n",
    "                print(f\"Yanlış PIN! {giris_hakki} hakkınız kaldı.\")\n",
    "\n",
    "    def menu(self):\n",
    "        while True:\n",
    "            print(\"\\n1. Bakiye Sorgula\\n2. Para Yatır\\n3. Para Çek\\n34. Çıkış\")\n",
    "            secim = input(\"İşlem seçin: \")\n",
    "            if secim == \"1\":\n",
    "                print(f\"Bakiyeniz: {self.bakiye} TL\")\n",
    "            elif secim == \"2\":\n",
    "                miktar=float(input(\"Yatırmak istediğiniz miktar:\"))\n",
    "                self.bakiye += miktar\n",
    "                print(f\"Mevcut bakiyeniz:{self.bakiye} TL\")\n",
    "            elif secim == \"3\":\n",
    "                miktar = float((input(\"Çekmek istediğiniz miktar:\")))\n",
    "                if miktar <= self.bakiye:\n",
    "                    self.bakiye -= miktar\n",
    "                    print(f\"Kalan bakiyeniz:{self.bakiye} TL\")\n",
    "                else:\n",
    "                    print(\"Yetersiz Bakiye\")\n",
    "            elif secim == \"4\":\n",
    "                print(\"Çıkış yapılıyor...\")\n",
    "                break\n",
    "            else:\n",
    "                print(\"Geçersiz işlem!\")\n",
    "            \n",
    "                \n",
    "        "
   ]
  },
  {
   "cell_type": "code",
   "execution_count": 16,
   "id": "029819a5-5584-47ed-8731-af3d2536677c",
   "metadata": {},
   "outputs": [
    {
     "name": "stdout",
     "output_type": "stream",
     "text": [
      "PIN kodunuzu giriniz: 12\n"
     ]
    },
    {
     "name": "stdout",
     "output_type": "stream",
     "text": [
      "Yanlış PIN! 2 hakkınız kaldı.\n"
     ]
    },
    {
     "name": "stdout",
     "output_type": "stream",
     "text": [
      "PIN kodunuzu giriniz: 12\n"
     ]
    },
    {
     "name": "stdout",
     "output_type": "stream",
     "text": [
      "Yanlış PIN! 1 hakkınız kaldı.\n"
     ]
    },
    {
     "name": "stdout",
     "output_type": "stream",
     "text": [
      "PIN kodunuzu giriniz: 1234\n"
     ]
    },
    {
     "name": "stdout",
     "output_type": "stream",
     "text": [
      "Giriş başarılı!\n",
      "\n",
      "1. Bakiye Sorgula\n",
      "2. Para Yatır\n",
      "3. Para Çek\n",
      "34. Çıkış\n"
     ]
    },
    {
     "ename": "KeyboardInterrupt",
     "evalue": "Interrupted by user",
     "output_type": "error",
     "traceback": [
      "\u001b[1;31m---------------------------------------------------------------------------\u001b[0m",
      "\u001b[1;31mKeyboardInterrupt\u001b[0m                         Traceback (most recent call last)",
      "Cell \u001b[1;32mIn[16], line 4\u001b[0m\n\u001b[0;32m      1\u001b[0m atm \u001b[38;5;241m=\u001b[39m ATM()\n\u001b[0;32m      3\u001b[0m \u001b[38;5;28;01mif\u001b[39;00m atm\u001b[38;5;241m.\u001b[39mgiris():\n\u001b[1;32m----> 4\u001b[0m     \u001b[43matm\u001b[49m\u001b[38;5;241;43m.\u001b[39;49m\u001b[43mmenu\u001b[49m\u001b[43m(\u001b[49m\u001b[43m)\u001b[49m\n",
      "Cell \u001b[1;32mIn[15], line 20\u001b[0m, in \u001b[0;36mATM.menu\u001b[1;34m(self)\u001b[0m\n\u001b[0;32m     18\u001b[0m \u001b[38;5;28;01mwhile\u001b[39;00m \u001b[38;5;28;01mTrue\u001b[39;00m:\n\u001b[0;32m     19\u001b[0m     \u001b[38;5;28mprint\u001b[39m(\u001b[38;5;124m\"\u001b[39m\u001b[38;5;130;01m\\n\u001b[39;00m\u001b[38;5;124m1. Bakiye Sorgula\u001b[39m\u001b[38;5;130;01m\\n\u001b[39;00m\u001b[38;5;124m2. Para Yatır\u001b[39m\u001b[38;5;130;01m\\n\u001b[39;00m\u001b[38;5;124m3. Para Çek\u001b[39m\u001b[38;5;130;01m\\n\u001b[39;00m\u001b[38;5;124m34. Çıkış\u001b[39m\u001b[38;5;124m\"\u001b[39m)\n\u001b[1;32m---> 20\u001b[0m     secim \u001b[38;5;241m=\u001b[39m \u001b[38;5;28;43minput\u001b[39;49m\u001b[43m(\u001b[49m\u001b[38;5;124;43m\"\u001b[39;49m\u001b[38;5;124;43mİşlem seçin: \u001b[39;49m\u001b[38;5;124;43m\"\u001b[39;49m\u001b[43m)\u001b[49m\n\u001b[0;32m     21\u001b[0m     \u001b[38;5;28;01mif\u001b[39;00m secim \u001b[38;5;241m==\u001b[39m \u001b[38;5;124m\"\u001b[39m\u001b[38;5;124m1\u001b[39m\u001b[38;5;124m\"\u001b[39m:\n\u001b[0;32m     22\u001b[0m         \u001b[38;5;28mprint\u001b[39m(\u001b[38;5;124mf\u001b[39m\u001b[38;5;124m\"\u001b[39m\u001b[38;5;124mBakiyeniz: \u001b[39m\u001b[38;5;132;01m{\u001b[39;00m\u001b[38;5;28mself\u001b[39m\u001b[38;5;241m.\u001b[39mbakiye\u001b[38;5;132;01m}\u001b[39;00m\u001b[38;5;124m TL\u001b[39m\u001b[38;5;124m\"\u001b[39m)\n",
      "File \u001b[1;32m~\\AppData\\Local\\miniconda3\\envs\\env_langchain\\lib\\site-packages\\ipykernel\\kernelbase.py:1282\u001b[0m, in \u001b[0;36mKernel.raw_input\u001b[1;34m(self, prompt)\u001b[0m\n\u001b[0;32m   1280\u001b[0m     msg \u001b[38;5;241m=\u001b[39m \u001b[38;5;124m\"\u001b[39m\u001b[38;5;124mraw_input was called, but this frontend does not support input requests.\u001b[39m\u001b[38;5;124m\"\u001b[39m\n\u001b[0;32m   1281\u001b[0m     \u001b[38;5;28;01mraise\u001b[39;00m StdinNotImplementedError(msg)\n\u001b[1;32m-> 1282\u001b[0m \u001b[38;5;28;01mreturn\u001b[39;00m \u001b[38;5;28;43mself\u001b[39;49m\u001b[38;5;241;43m.\u001b[39;49m\u001b[43m_input_request\u001b[49m\u001b[43m(\u001b[49m\n\u001b[0;32m   1283\u001b[0m \u001b[43m    \u001b[49m\u001b[38;5;28;43mstr\u001b[39;49m\u001b[43m(\u001b[49m\u001b[43mprompt\u001b[49m\u001b[43m)\u001b[49m\u001b[43m,\u001b[49m\n\u001b[0;32m   1284\u001b[0m \u001b[43m    \u001b[49m\u001b[38;5;28;43mself\u001b[39;49m\u001b[38;5;241;43m.\u001b[39;49m\u001b[43m_parent_ident\u001b[49m\u001b[43m[\u001b[49m\u001b[38;5;124;43m\"\u001b[39;49m\u001b[38;5;124;43mshell\u001b[39;49m\u001b[38;5;124;43m\"\u001b[39;49m\u001b[43m]\u001b[49m\u001b[43m,\u001b[49m\n\u001b[0;32m   1285\u001b[0m \u001b[43m    \u001b[49m\u001b[38;5;28;43mself\u001b[39;49m\u001b[38;5;241;43m.\u001b[39;49m\u001b[43mget_parent\u001b[49m\u001b[43m(\u001b[49m\u001b[38;5;124;43m\"\u001b[39;49m\u001b[38;5;124;43mshell\u001b[39;49m\u001b[38;5;124;43m\"\u001b[39;49m\u001b[43m)\u001b[49m\u001b[43m,\u001b[49m\n\u001b[0;32m   1286\u001b[0m \u001b[43m    \u001b[49m\u001b[43mpassword\u001b[49m\u001b[38;5;241;43m=\u001b[39;49m\u001b[38;5;28;43;01mFalse\u001b[39;49;00m\u001b[43m,\u001b[49m\n\u001b[0;32m   1287\u001b[0m \u001b[43m\u001b[49m\u001b[43m)\u001b[49m\n",
      "File \u001b[1;32m~\\AppData\\Local\\miniconda3\\envs\\env_langchain\\lib\\site-packages\\ipykernel\\kernelbase.py:1325\u001b[0m, in \u001b[0;36mKernel._input_request\u001b[1;34m(self, prompt, ident, parent, password)\u001b[0m\n\u001b[0;32m   1322\u001b[0m \u001b[38;5;28;01mexcept\u001b[39;00m \u001b[38;5;167;01mKeyboardInterrupt\u001b[39;00m:\n\u001b[0;32m   1323\u001b[0m     \u001b[38;5;66;03m# re-raise KeyboardInterrupt, to truncate traceback\u001b[39;00m\n\u001b[0;32m   1324\u001b[0m     msg \u001b[38;5;241m=\u001b[39m \u001b[38;5;124m\"\u001b[39m\u001b[38;5;124mInterrupted by user\u001b[39m\u001b[38;5;124m\"\u001b[39m\n\u001b[1;32m-> 1325\u001b[0m     \u001b[38;5;28;01mraise\u001b[39;00m \u001b[38;5;167;01mKeyboardInterrupt\u001b[39;00m(msg) \u001b[38;5;28;01mfrom\u001b[39;00m\u001b[38;5;250m \u001b[39m\u001b[38;5;28;01mNone\u001b[39;00m\n\u001b[0;32m   1326\u001b[0m \u001b[38;5;28;01mexcept\u001b[39;00m \u001b[38;5;167;01mException\u001b[39;00m:\n\u001b[0;32m   1327\u001b[0m     \u001b[38;5;28mself\u001b[39m\u001b[38;5;241m.\u001b[39mlog\u001b[38;5;241m.\u001b[39mwarning(\u001b[38;5;124m\"\u001b[39m\u001b[38;5;124mInvalid Message:\u001b[39m\u001b[38;5;124m\"\u001b[39m, exc_info\u001b[38;5;241m=\u001b[39m\u001b[38;5;28;01mTrue\u001b[39;00m)\n",
      "\u001b[1;31mKeyboardInterrupt\u001b[0m: Interrupted by user"
     ]
    }
   ],
   "source": [
    "atm = ATM()\n",
    "\n",
    "if atm.giris():\n",
    "    atm.menu()"
   ]
  },
  {
   "cell_type": "markdown",
   "id": "a64662a5-974a-4bfa-992c-919ec8bed232",
   "metadata": {},
   "source": [
    "# Alıştırma 5 Şirket için Masraf Takip Sistemi\n",
    "\n",
    "Senaryo: \n",
    "- Çalışanlar masraf ekleyebilir.\n",
    "- Şirket masraf raporu alabilir.\n",
    "- Kategori bazlı harcamalar listeleyebilir."
   ]
  },
  {
   "cell_type": "code",
   "execution_count": 19,
   "id": "7081f43d-231a-4ddf-833d-d09a31bebd91",
   "metadata": {},
   "outputs": [],
   "source": [
    "class MasrafTakip:\n",
    "    def __init__(self):\n",
    "        self.masraflar = []\n",
    "\n",
    "    def masraf_ekle(self, isim, kategori,tutar):\n",
    "        self.masraflar.append({\"isim\":isim , \"kategori\":kategori, \"tutar\":tutar})\n",
    "        print(f\"{isim} adlı çalışanın {kategori} kategorisinde {tutar} TL masrafı eklendi.\")\n",
    "\n",
    "    def rapor(self):\n",
    "        toplam = sum(m[\"tutar\"] for m in self.masraflar)\n",
    "        print(f\"\\nToplam Masraf: {toplam} TL\")\n",
    "        kategoriler ={}\n",
    "        for masraf in self.masraflar:\n",
    "            kategoriler[masraf[\"kategori\"]] = kategoriler.get(masraf[\"kategori\"],0) + masraf[\"tutar\"]\n",
    "\n",
    "        for kategori, toplam in kategoriler.items():\n",
    "            print(f\"{kategori} : {toplam} TL\")\n",
    "        "
   ]
  },
  {
   "cell_type": "code",
   "execution_count": 20,
   "id": "81ab49d0-8d12-4e4f-8865-7dae6a0ae98b",
   "metadata": {},
   "outputs": [
    {
     "name": "stdout",
     "output_type": "stream",
     "text": [
      "Kardel adlı çalışanın Yemek kategorisinde 80 TL masrafı eklendi.\n",
      "Kardel adlı çalışanın Yemek kategorisinde 100 TL masrafı eklendi.\n",
      "Kardel adlı çalışanın Yemek kategorisinde 120 TL masrafı eklendi.\n",
      "Kardel adlı çalışanın Ulaşım kategorisinde 500 TL masrafı eklendi.\n",
      "\n",
      "Toplam Masraf: 800 TL\n",
      "Yemek : 300 TL\n",
      "Ulaşım : 500 TL\n"
     ]
    }
   ],
   "source": [
    "masraf = MasrafTakip()\n",
    "masraf.masraf_ekle(\"Kardel\",\"Yemek\", 80)\n",
    "masraf.masraf_ekle(\"Kardel\",\"Yemek\", 100)\n",
    "masraf.masraf_ekle(\"Kardel\",\"Yemek\", 120)\n",
    "masraf.masraf_ekle(\"Kardel\",\"Ulaşım\", 500)\n",
    "\n",
    "masraf.rapor()\n"
   ]
  },
  {
   "cell_type": "markdown",
   "id": "29b24c9a-52c7-4ab3-a2b7-0980eb1a9464",
   "metadata": {},
   "source": [
    "# Alıştırma 6 Çalışan Performans Değerlendirme Sistemi\n",
    "\n",
    "- Çalışanların tamamladığı görevleri kaydetsin.\n",
    "- Puanlarına göre performanslarını sıralasın.\n",
    "- Belirli bir puan üzerinde olan çalışanlar da ödüllendirilsin."
   ]
  },
  {
   "cell_type": "code",
   "execution_count": 28,
   "id": "15a601d2-0eda-4a97-a89f-7ab2f2eefc78",
   "metadata": {},
   "outputs": [],
   "source": [
    "class PerformansSistemi:\n",
    "    def __init__(self):\n",
    "        self.calisanlar = {}\n",
    "\n",
    "    def gorev_ekle(self,ad,puan):\n",
    "        self.calisanlar[ad] = self.calisanlar.get(ad,0) + puan\n",
    "        print(f\"{ad} adlı çalışana {puan} puan eklendi. Toplam puan: {self.calisanlar[ad]}\")\n",
    "\n",
    "    def performans_raporu(self):\n",
    "        print(\"\\n Performans Raporu:\")\n",
    "        sirali = sorted(self.calisanlar.items(), key= lambda x: x[1],reverse = True)\n",
    "        for ad,puan in sirali:\n",
    "            print(f\"{ad} : {puan} puan\")\n",
    "\n",
    "    def odul_kazananlar(self,sinir):\n",
    "        kazananlar = [ad for ad,puan in self.calisanlar.items() if puan >= sinir]\n",
    "        print(f\"\\nÖdül kazananlar ({sinir} + puan): {', '.join(kazananlar)}\")"
   ]
  },
  {
   "cell_type": "code",
   "execution_count": 29,
   "id": "7af9cc7d-8911-4f73-b363-cf4ec8406735",
   "metadata": {},
   "outputs": [
    {
     "name": "stdout",
     "output_type": "stream",
     "text": [
      "Nuri adlı çalışana 100 puan eklendi. Toplam puan: 100\n",
      "Kardel adlı çalışana 80 puan eklendi. Toplam puan: 80\n",
      "Ruveyda adlı çalışana 50 puan eklendi. Toplam puan: 50\n"
     ]
    }
   ],
   "source": [
    "performans = PerformansSistemi()\n",
    "\n",
    "performans.gorev_ekle(\"Nuri\", 100)\n",
    "performans.gorev_ekle(\"Kardel\",80)\n",
    "performans.gorev_ekle(\"Ruveyda\",50)\n",
    "\n"
   ]
  },
  {
   "cell_type": "code",
   "execution_count": 30,
   "id": "942c4279-c84c-4efc-b74c-e368059b77d4",
   "metadata": {},
   "outputs": [
    {
     "name": "stdout",
     "output_type": "stream",
     "text": [
      "\n",
      " Performans Raporu:\n",
      "Nuri : 100 puan\n",
      "Kardel : 80 puan\n",
      "Ruveyda : 50 puan\n"
     ]
    }
   ],
   "source": [
    "performans.performans_raporu()"
   ]
  },
  {
   "cell_type": "code",
   "execution_count": 31,
   "id": "ca7923b4-9fe6-4c3d-9381-455afd5809a4",
   "metadata": {},
   "outputs": [
    {
     "name": "stdout",
     "output_type": "stream",
     "text": [
      "\n",
      "Ödül kazananlar (85 + puan): Nuri\n"
     ]
    }
   ],
   "source": [
    "performans.odul_kazananlar(85)"
   ]
  },
  {
   "cell_type": "code",
   "execution_count": null,
   "id": "10a35886-c0f2-4dcf-9907-9f9f863d1189",
   "metadata": {},
   "outputs": [],
   "source": []
  }
 ],
 "metadata": {
  "kernelspec": {
   "display_name": "env_langchain",
   "language": "python",
   "name": "python3"
  },
  "language_info": {
   "codemirror_mode": {
    "name": "ipython",
    "version": 3
   },
   "file_extension": ".py",
   "mimetype": "text/x-python",
   "name": "python",
   "nbconvert_exporter": "python",
   "pygments_lexer": "ipython3",
   "version": "3.10.16"
  }
 },
 "nbformat": 4,
 "nbformat_minor": 5
}
